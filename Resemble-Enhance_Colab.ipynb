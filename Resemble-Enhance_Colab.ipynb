{
  "cells": [
    {
      "cell_type": "markdown",
      "metadata": {
        "id": "view-in-github",
        "colab_type": "text"
      },
      "source": [
        "<a href=\"https://colab.research.google.com/github/dongxiat/MyColabHub/blob/main/Resemble-Enhance_Colab.ipynb\" target=\"_parent\"><img src=\"https://colab.research.google.com/assets/colab-badge.svg\" alt=\"Open In Colab\"/></a>"
      ]
    },
    {
      "cell_type": "code",
      "execution_count": null,
      "metadata": {
        "id": "pM_DWSG1kKZa",
        "cellView": "form"
      },
      "outputs": [],
      "source": [
        "# @title #Install Resemble Enhance\n",
        "%cd /content\n",
        "!rm -rf resemble-enhance-windows\n",
        "\n",
        "!git clone https://github.com/dongxiat/MyColabHub\n",
        "%cd /content/MyColabHub/resemble-enhance-windows\n",
        "!pip install uv\n",
        "\n",
        "!sed -i '/deepspeed = { path =/d' pyproject.toml\n",
        "!sed -i '/triton = { path =/d' pyproject.toml\n",
        "\n",
        "!uv sync -q\n",
        "!uv pip install -e . --no-deps\n",
        "\n",
        "!sed -i 's/interface.launch()/interface.launch(share=True)/' app.py"
      ]
    },
    {
      "cell_type": "code",
      "execution_count": null,
      "metadata": {
        "id": "UYJs7xo8lSTE",
        "cellView": "form"
      },
      "outputs": [],
      "source": [
        "# @title #Run Resemble Enhance Webui\n",
        "%cd /content/MyColabHub/resemble-enhance-windows\n",
        "!uv run python app.py\n"
      ]
    },
    {
      "cell_type": "code",
      "source": [
        "# @title #(Optional) Mount Google Drive For Batch Processing\n",
        "\n",
        "#@markdown <br><center><img src='https://upload.wikimedia.org/wikipedia/commons/thumb/d/da/Google_Drive_logo.png/600px-Google_Drive_logo.png' height=\"50\" alt=\"Gdrive-logo\"/></center>\n",
        "#@markdown <center><h3>Mount Gdrive to /content/drive</h3></center><br>\n",
        "MODE = \"MOUNT\" #@param [\"MOUNT\", \"UNMOUNT\"]\n",
        "#Mount your Gdrive!\n",
        "from google.colab import drive\n",
        "drive.mount._DEBUG = False\n",
        "if MODE == \"MOUNT\":\n",
        "  drive.mount('/content/drive', force_remount=True)\n",
        "elif MODE == \"UNMOUNT\":\n",
        "  try:\n",
        "    drive.flush_and_unmount()\n",
        "  except ValueError:\n",
        "    pass\n",
        "  get_ipython().system_raw(\"rm -rf /root/.config/Google/DriveFS\")"
      ],
      "metadata": {
        "cellView": "form",
        "id": "ikBFjqqdLPSM"
      },
      "execution_count": null,
      "outputs": []
    }
  ],
  "metadata": {
    "colab": {
      "provenance": [],
      "gpuType": "T4",
      "include_colab_link": true
    },
    "kernelspec": {
      "display_name": "Python 3",
      "name": "python3"
    },
    "language_info": {
      "name": "python"
    },
    "accelerator": "GPU"
  },
  "nbformat": 4,
  "nbformat_minor": 0
}