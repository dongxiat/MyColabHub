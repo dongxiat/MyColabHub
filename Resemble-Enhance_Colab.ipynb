{
  "cells": [
    {
      "cell_type": "code",
      "execution_count": null,
      "metadata": {
        "id": "pM_DWSG1kKZa",
        "cellView": "form"
      },
      "outputs": [],
      "source": [
        "# @title #Install Resemble Enhance\n",
        "%cd /content\n",
        "!rm -rf resemble-enhance-windows\n",
        "\n",
        "!git clone https://github.com/dongxiat/MyColabHub\n",
        "%cd /content/MyColabHubresemble-enhance-windows\n",
        "!pip install uv\n",
        "\n",
        "!sed -i '/deepspeed = { path =/d' pyproject.toml\n",
        "!sed -i '/triton = { path =/d' pyproject.toml\n",
        "\n",
        "!uv sync -q\n",
        "!uv pip install -e . --no-deps\n",
        "\n",
        "!sed -i 's/interface.launch()/interface.launch(share=True)/' app.py"
      ]
    },
    {
      "cell_type": "code",
      "execution_count": null,
      "metadata": {
        "id": "UYJs7xo8lSTE",
        "cellView": "form"
      },
      "outputs": [],
      "source": [
        "# @title #Run Resemble Enhance Webui\n",
        "%cd /content/MyColabHub/resemble-enhance-windows\n",
        "!uv run python app.py\n"
      ]
    }
  ],
  "metadata": {
    "colab": {
      "provenance": [],
      "gpuType": "T4"
    },
    "kernelspec": {
      "display_name": "Python 3",
      "name": "python3"
    },
    "language_info": {
      "name": "python"
    },
    "accelerator": "GPU"
  },
  "nbformat": 4,
  "nbformat_minor": 0
}