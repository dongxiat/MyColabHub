{
  "nbformat": 4,
  "nbformat_minor": 0,
  "metadata": {
    "colab": {
      "provenance": [],
      "gpuType": "T4",
      "authorship_tag": "ABX9TyMBezPSBYr2dL8o7+/TOo4i",
      "include_colab_link": true
    },
    "kernelspec": {
      "name": "python3",
      "display_name": "Python 3"
    },
    "language_info": {
      "name": "python"
    },
    "accelerator": "GPU"
  },
  "cells": [
    {
      "cell_type": "markdown",
      "metadata": {
        "id": "view-in-github",
        "colab_type": "text"
      },
      "source": [
        "<a href=\"https://colab.research.google.com/github/dongxiat/MyColabHub/blob/main/DepthFlow_Colab.ipynb\" target=\"_parent\"><img src=\"https://colab.research.google.com/assets/colab-badge.svg\" alt=\"Open In Colab\"/></a>"
      ]
    },
    {
      "cell_type": "code",
      "source": [
        "# 1. Cài đặt các thư viện hệ thống cần thiết cho EGL\n",
        "!apt-get update\n",
        "!apt-get install -y libegl1-mesa-dev libgles2-mesa-dev\n",
        "\n",
        "# 2. Cài đặt moderngl\n",
        "!pip install moderngl\n",
        "\n",
        "# 3. Tạo context và chỉ định rõ backend 'egl'\n",
        "import moderngl\n",
        "\n",
        "# Thay vì để tự động chọn, chúng ta ép nó dùng 'egl'\n",
        "# Đây là dòng quan trọng nhất để sửa lỗi\n",
        "ctx = moderngl.create_standalone_context(backend='egl')\n",
        "\n",
        "# 4. In thông tin để kiểm tra\n",
        "print(ctx.info)"
      ],
      "metadata": {
        "colab": {
          "base_uri": "https://localhost:8080/"
        },
        "id": "p-HjIyteVvCL",
        "outputId": "b1eb77bc-f3af-4037-f065-e2f372f43cab"
      },
      "execution_count": 11,
      "outputs": [
        {
          "output_type": "stream",
          "name": "stdout",
          "text": [
            "\r0% [Working]\r            \rHit:1 https://cloud.r-project.org/bin/linux/ubuntu jammy-cran40/ InRelease\n",
            "Hit:2 https://developer.download.nvidia.com/compute/cuda/repos/ubuntu2204/x86_64  InRelease\n",
            "Hit:3 http://security.ubuntu.com/ubuntu jammy-security InRelease\n",
            "Hit:4 https://r2u.stat.illinois.edu/ubuntu jammy InRelease\n",
            "Hit:5 http://archive.ubuntu.com/ubuntu jammy InRelease\n",
            "Hit:6 http://archive.ubuntu.com/ubuntu jammy-updates InRelease\n",
            "Hit:7 https://ppa.launchpadcontent.net/deadsnakes/ppa/ubuntu jammy InRelease\n",
            "Hit:8 http://archive.ubuntu.com/ubuntu jammy-backports InRelease\n",
            "Hit:9 https://ppa.launchpadcontent.net/graphics-drivers/ppa/ubuntu jammy InRelease\n",
            "Hit:10 https://ppa.launchpadcontent.net/ubuntugis/ppa/ubuntu jammy InRelease\n",
            "Reading package lists... Done\n",
            "W: Skipping acquire of configured file 'main/source/Sources' as repository 'https://r2u.stat.illinois.edu/ubuntu jammy InRelease' does not seem to provide it (sources.list entry misspelt?)\n",
            "Reading package lists... Done\n",
            "Building dependency tree... Done\n",
            "Reading state information... Done\n",
            "libegl1-mesa-dev is already the newest version (23.2.1-1ubuntu3.1~22.04.3).\n",
            "libgles2-mesa-dev is already the newest version (23.2.1-1ubuntu3.1~22.04.3).\n",
            "0 upgraded, 0 newly installed, 0 to remove and 100 not upgraded.\n",
            "Requirement already satisfied: moderngl in /usr/local/lib/python3.11/dist-packages (5.12.0)\n",
            "Requirement already satisfied: glcontext>=3.0.0 in /usr/local/lib/python3.11/dist-packages (from moderngl) (3.0.0)\n",
            "{'GL_VENDOR': 'Mesa', 'GL_RENDERER': 'llvmpipe (LLVM 15.0.7, 256 bits)', 'GL_VERSION': '4.5 (Core Profile) Mesa 23.2.1-1ubuntu3.1~22.04.3', 'GL_POINT_SIZE_RANGE': (1.0, 255.0), 'GL_SMOOTH_LINE_WIDTH_RANGE': (1.0, 255.0), 'GL_ALIASED_LINE_WIDTH_RANGE': (1.0, 255.0), 'GL_POINT_FADE_THRESHOLD_SIZE': 1.0, 'GL_POINT_SIZE_GRANULARITY': 0.10000000149011612, 'GL_SMOOTH_LINE_WIDTH_GRANULARITY': 0.10000000149011612, 'GL_MIN_PROGRAM_TEXEL_OFFSET': -32.0, 'GL_MAX_PROGRAM_TEXEL_OFFSET': 31.0, 'GL_MINOR_VERSION': 5, 'GL_MAJOR_VERSION': 4, 'GL_SAMPLE_BUFFERS': 0, 'GL_SUBPIXEL_BITS': 8, 'GL_CONTEXT_PROFILE_MASK': 1, 'GL_UNIFORM_BUFFER_OFFSET_ALIGNMENT': 16, 'GL_DOUBLEBUFFER': False, 'GL_STEREO': False, 'GL_MAX_VIEWPORT_DIMS': (16384, 16384), 'GL_MAX_3D_TEXTURE_SIZE': 2048, 'GL_MAX_ARRAY_TEXTURE_LAYERS': 2048, 'GL_MAX_CLIP_DISTANCES': 8, 'GL_MAX_COLOR_ATTACHMENTS': 8, 'GL_MAX_COLOR_TEXTURE_SAMPLES': 4, 'GL_MAX_COMBINED_FRAGMENT_UNIFORM_COMPONENTS': 262144, 'GL_MAX_COMBINED_GEOMETRY_UNIFORM_COMPONENTS': 262144, 'GL_MAX_COMBINED_TEXTURE_IMAGE_UNITS': 192, 'GL_MAX_COMBINED_UNIFORM_BLOCKS': 90, 'GL_MAX_COMBINED_VERTEX_UNIFORM_COMPONENTS': 262144, 'GL_MAX_CUBE_MAP_TEXTURE_SIZE': 16384, 'GL_MAX_DEPTH_TEXTURE_SAMPLES': 4, 'GL_MAX_DRAW_BUFFERS': 8, 'GL_MAX_DUAL_SOURCE_DRAW_BUFFERS': 1, 'GL_MAX_ELEMENTS_INDICES': 3000, 'GL_MAX_ELEMENTS_VERTICES': 3000, 'GL_MAX_FRAGMENT_INPUT_COMPONENTS': 128, 'GL_MAX_FRAGMENT_UNIFORM_COMPONENTS': 16384, 'GL_MAX_FRAGMENT_UNIFORM_VECTORS': 4096, 'GL_MAX_FRAGMENT_UNIFORM_BLOCKS': 15, 'GL_MAX_GEOMETRY_INPUT_COMPONENTS': 128, 'GL_MAX_GEOMETRY_OUTPUT_COMPONENTS': 128, 'GL_MAX_GEOMETRY_TEXTURE_IMAGE_UNITS': 32, 'GL_MAX_GEOMETRY_UNIFORM_BLOCKS': 15, 'GL_MAX_GEOMETRY_UNIFORM_COMPONENTS': 16384, 'GL_MAX_GEOMETRY_OUTPUT_VERTICES': 1024, 'GL_MAX_INTEGER_SAMPLES': 4, 'GL_MAX_SAMPLES': 4, 'GL_MAX_RECTANGLE_TEXTURE_SIZE': 16384, 'GL_MAX_RENDERBUFFER_SIZE': 16384, 'GL_MAX_SAMPLE_MASK_WORDS': 1, 'GL_MAX_TEXTURE_BUFFER_SIZE': 134217728, 'GL_MAX_TEXTURE_IMAGE_UNITS': 32, 'GL_MAX_TEXTURE_LOD_BIAS': 16, 'GL_MAX_TEXTURE_SIZE': 16384, 'GL_MAX_UNIFORM_BUFFER_BINDINGS': 90, 'GL_MAX_UNIFORM_BLOCK_SIZE': 65536, 'GL_MAX_VARYING_VECTORS': 32, 'GL_MAX_VERTEX_ATTRIBS': 16, 'GL_MAX_VERTEX_TEXTURE_IMAGE_UNITS': 32, 'GL_MAX_VERTEX_UNIFORM_COMPONENTS': 16384, 'GL_MAX_VERTEX_UNIFORM_VECTORS': 4096, 'GL_MAX_VERTEX_OUTPUT_COMPONENTS': 128, 'GL_MAX_VERTEX_UNIFORM_BLOCKS': 15, 'GL_MAX_SERVER_WAIT_TIMEOUT': 9223372034707292159, 'GL_VIEWPORT_BOUNDS_RANGE': (-32768, 32767), 'GL_VIEWPORT_SUBPIXEL_BITS': 0, 'GL_MAX_VIEWPORTS': 16, 'GL_MIN_MAP_BUFFER_ALIGNMENT': 64, 'GL_MAX_COMBINED_ATOMIC_COUNTERS': 4096, 'GL_MAX_FRAGMENT_ATOMIC_COUNTERS': 4096, 'GL_MAX_GEOMETRY_ATOMIC_COUNTERS': 4096, 'GL_MAX_TESS_CONTROL_ATOMIC_COUNTERS': 4096, 'GL_MAX_TESS_EVALUATION_ATOMIC_COUNTERS': 4096, 'GL_MAX_VERTEX_ATOMIC_COUNTERS': 4096, 'GL_MAX_COMPUTE_WORK_GROUP_COUNT': (65535, 65535, 65535), 'GL_MAX_COMPUTE_WORK_GROUP_SIZE': (1024, 1024, 1024), 'GL_MAX_VERTEX_ATTRIB_RELATIVE_OFFSET': 2047, 'GL_MAX_VERTEX_ATTRIB_BINDINGS': 16, 'GL_MAX_SHADER_STORAGE_BUFFER_BINDINGS': 80, 'GL_MAX_COMBINED_SHADER_STORAGE_BLOCKS': 80, 'GL_MAX_VERTEX_SHADER_STORAGE_BLOCKS': 16, 'GL_MAX_FRAGMENT_SHADER_STORAGE_BLOCKS': 16, 'GL_MAX_GEOMETRY_SHADER_STORAGE_BLOCKS': 16, 'GL_MAX_TESS_EVALUATION_SHADER_STORAGE_BLOCKS': 16, 'GL_MAX_TESS_CONTROL_SHADER_STORAGE_BLOCKS': 16, 'GL_MAX_COMPUTE_SHADER_STORAGE_BLOCKS': 16, 'GL_MAX_COMPUTE_UNIFORM_COMPONENTS': 16384, 'GL_MAX_COMPUTE_ATOMIC_COUNTERS': 4096, 'GL_MAX_COMPUTE_ATOMIC_COUNTER_BUFFERS': 16, 'GL_MAX_COMPUTE_WORK_GROUP_INVOCATIONS': 1024, 'GL_MAX_COMPUTE_UNIFORM_BLOCKS': 15, 'GL_MAX_COMPUTE_TEXTURE_IMAGE_UNITS': 32, 'GL_MAX_COMBINED_COMPUTE_UNIFORM_COMPONENTS': 262144, 'GL_MAX_FRAMEBUFFER_WIDTH': 16384, 'GL_MAX_FRAMEBUFFER_HEIGHT': 16384, 'GL_MAX_FRAMEBUFFER_LAYERS': 2048, 'GL_MAX_FRAMEBUFFER_SAMPLES': 4, 'GL_MAX_UNIFORM_LOCATIONS': 81920, 'GL_MAX_LABEL_LENGTH': 256, 'GL_MAX_ELEMENT_INDEX': 4294967295, 'GL_MAX_SHADER_STORAGE_BLOCK_SIZE': 134217728}\n"
          ]
        }
      ]
    },
    {
      "cell_type": "code",
      "source": [
        "import os\n",
        "import re\n",
        "import json\n",
        "from glob import glob\n",
        "\n",
        "# --- PHẦN CẤU HÌNH EGL CHO NVIDIA ---\n",
        "# Mục tiêu: Tìm tệp cấu hình EGL của NVIDIA và đặt biến môi trường\n",
        "# để buộc moderngl sử dụng nó.\n",
        "\n",
        "# 1. Tìm tệp nvidia_egl.json\n",
        "vendor_json_path = ''\n",
        "for path in glob('/usr/share/glvnd/egl_vendor.d/*.json'):\n",
        "    with open(path) as f:\n",
        "        data = json.load(f)\n",
        "        if data.get('library_path') and 'nvidia' in data['library_path']:\n",
        "            vendor_json_path = path\n",
        "            break\n",
        "\n",
        "# 2. Nếu tìm thấy, đặt biến môi trường\n",
        "if vendor_json_path:\n",
        "    print(f\"Đã tìm thấy file cấu hình EGL của NVIDIA tại: {vendor_json_path}\")\n",
        "    os.environ['__EGL_VENDOR_LIBRARY_FILENAMES'] = vendor_json_path\n",
        "else:\n",
        "    print(\"CẢNH BÁO: Không tìm thấy file cấu hình EGL của NVIDIA. Có thể sẽ quay lại dùng llvmpipe.\")\n",
        "    # Cài đặt thủ công nếu không tìm thấy tự động (dành cho các phiên bản Colab cũ hơn)\n",
        "    !apt-get update -qq && apt-get install -y libegl1-mesa-dev > /dev/null\n",
        "\n",
        "\n",
        "# --- PHẦN KHỞI TẠO MODERNGL ---\n",
        "\n",
        "# 3. Cài đặt moderngl\n",
        "!pip install moderngl > /dev/null\n",
        "import moderngl\n",
        "\n",
        "# 4. Tạo context, EGL giờ sẽ đọc biến môi trường và chọn đúng driver\n",
        "print(\"\\nĐang tạo context ModernGL...\")\n",
        "try:\n",
        "    ctx = moderngl.create_standalone_context(backend='egl')\n",
        "    print(\"Tạo context thành công!\")\n",
        "\n",
        "    # 5. In thông tin để kiểm tra\n",
        "    print(\"\\n--- Thông tin Context ---\")\n",
        "    print(f\"GL_VENDOR: {ctx.info.get('GL_VENDOR')}\")\n",
        "    print(f\"GL_RENDERER: {ctx.info.get('GL_RENDERER')}\")\n",
        "    print(f\"GL_VERSION: {ctx.info.get('GL_VERSION')}\")\n",
        "    print(\"-------------------------\")\n",
        "\n",
        "    if 'nvidia' in ctx.info.get('GL_RENDERER', '').lower():\n",
        "        print(\"\\n✅ Thành công! ModernGL đang render bằng GPU của NVIDIA.\")\n",
        "    else:\n",
        "        print(\"\\n❌ Thất bại! ModernGL vẫn đang dùng llvmpipe. Hãy kiểm tra lại Bước 1.\")\n",
        "\n",
        "except Exception as e:\n",
        "    print(f\"\\nĐã xảy ra lỗi khi tạo context: {e}\")\n",
        "    print(\"Hãy chắc chắn bạn đã thực hiện Bước 1 và bật GPU Runtime.\")"
      ],
      "metadata": {
        "colab": {
          "base_uri": "https://localhost:8080/"
        },
        "id": "s8qljYqvYLLE",
        "outputId": "1602f6df-2671-4758-93f0-7d2d74345ebb"
      },
      "execution_count": 15,
      "outputs": [
        {
          "output_type": "stream",
          "name": "stdout",
          "text": [
            "CẢNH BÁO: Không tìm thấy file cấu hình EGL của NVIDIA. Có thể sẽ quay lại dùng llvmpipe.\n",
            "W: Skipping acquire of configured file 'main/source/Sources' as repository 'https://r2u.stat.illinois.edu/ubuntu jammy InRelease' does not seem to provide it (sources.list entry misspelt?)\n",
            "\n",
            "Đang tạo context ModernGL...\n",
            "Tạo context thành công!\n",
            "\n",
            "--- Thông tin Context ---\n",
            "GL_VENDOR: Mesa\n",
            "GL_RENDERER: llvmpipe (LLVM 15.0.7, 256 bits)\n",
            "GL_VERSION: 4.5 (Core Profile) Mesa 23.2.1-1ubuntu3.1~22.04.3\n",
            "-------------------------\n",
            "\n",
            "❌ Thất bại! ModernGL vẫn đang dùng llvmpipe. Hãy kiểm tra lại Bước 1.\n"
          ]
        }
      ]
    },
    {
      "cell_type": "code",
      "source": [
        "import os\n",
        "import subprocess\n",
        "import moderngl\n",
        "\n",
        "# --- Bước 1: Xác minh GPU một cách chắc chắn ---\n",
        "gpu_check = subprocess.run(['nvidia-smi'], capture_output=True, text=True)\n",
        "if \"NVIDIA-SMI has failed\" in gpu_check.stdout or gpu_check.returncode != 0:\n",
        "    print(\"❌ LỖI NGHIÊM TRỌNG: Không phát hiện GPU NVIDIA.\")\n",
        "    print(\"Vui lòng vào 'Runtime' -> 'Change runtime type' để chọn một 'T4 GPU' và chạy lại cell này.\")\n",
        "else:\n",
        "    print(\"✅ Bước 1: Đã xác nhận có GPU NVIDIA.\")\n",
        "\n",
        "    # --- Bước 2: Tìm file cấu hình EGL của NVIDIA trên toàn hệ thống ---\n",
        "    print(\"\\n⏳ Bước 2: Đang tìm kiếm file cấu hình EGL của NVIDIA...\")\n",
        "    # Lệnh tìm kiếm mạnh mẽ hơn\n",
        "    find_cmd = 'find / -name \"nvidia_egl.json\" 2>/dev/null'\n",
        "    result = subprocess.run(find_cmd, shell=True, capture_output=True, text=True)\n",
        "    vendor_json_path = result.stdout.strip().split('\\n')[0] # Lấy kết quả đầu tiên\n",
        "\n",
        "    if vendor_json_path and 'nvidia' in vendor_json_path:\n",
        "        print(f\"   -> Đã tìm thấy tại: {vendor_json_path}\")\n",
        "        os.environ['__EGL_VENDOR_LIBRARY_FILENAMES'] = vendor_json_path\n",
        "\n",
        "        # --- Bước 3: Khởi tạo ModernGL ---\n",
        "        print(\"\\n⏳ Bước 3: Đang tạo context ModernGL...\")\n",
        "        try:\n",
        "            ctx = moderngl.create_standalone_context(backend='egl')\n",
        "            print(\"   -> Tạo context thành công!\")\n",
        "\n",
        "            # --- Bước 4: Kiểm tra kết quả ---\n",
        "            print(\"\\n--- KẾT QUẢ ---\")\n",
        "            renderer = ctx.info.get('GL_RENDERER', '')\n",
        "            print(f\"GL_RENDERER: {renderer}\")\n",
        "\n",
        "            if 'nvidia' in renderer.lower():\n",
        "                print(\"\\n✅ Tuyệt vời! ModernGL đã kết nối với GPU NVIDIA.\")\n",
        "            else:\n",
        "                print(f\"\\n❌ Thất bại! Vẫn đang dùng '{renderer}'.\")\n",
        "\n",
        "        except Exception as e:\n",
        "            print(f\"\\n❌ LỖI khi tạo context: {e}\")\n",
        "\n",
        "    else:\n",
        "        print(\"\\n❌ LỖI: Không thể tìm thấy file 'nvidia_egl.json'. Không thể cấu hình để dùng GPU.\")"
      ],
      "metadata": {
        "id": "puTClZ9vah77"
      },
      "execution_count": null,
      "outputs": []
    },
    {
      "cell_type": "code",
      "source": [
        "# ================================================================\n",
        "# BƯỚC 1: CÀI ĐẶT CÁC THƯ VIỆN HỆ THỐNG\n",
        "# (Để kết nối OpenGL với GPU trong môi trường không có màn hình)\n",
        "# ================================================================\n",
        "!apt-get update\n",
        "!apt-get install -y libgl1-mesa-glx libegl1-mesa libosmesa6-dev patchelf mesa-utils\n",
        "print(\"✅ Đã cài đặt xong thư viện hệ thống cho OpenGL/EGL.\")\n",
        "\n",
        "# ================================================================\n",
        "# BƯỚC 2: CÀI ĐẶT THƯ VIỆN PYTHON VÀ ỨNG DỤNG\n",
        "# ================================================================\n",
        "!pip install -q pyvista ipywidgets\n",
        "%cd /content/\n",
        "!pip install git+https://github.com/BrokenSource/DepthFlow.git -q\n",
        "print(\"✅ Đã cài đặt xong PyVista và DepthFlow.\")\n",
        "\n",
        "# ================================================================\n",
        "# BƯỚC 3: CẤU HÌNH MÔI TRƯỜNG PYTHON VÀ KIỂM TRA\n",
        "# ================================================================\n",
        "import os\n",
        "# Lệnh này báo cho Python sử dụng backend EGL (dành cho GPU server)\n",
        "os.environ['PYOPENGL_PLATFORM'] = 'egl'\n",
        "\n",
        "# Chạy lệnh kiểm tra.\n",
        "# Bây giờ, đầu ra PHẢI là \"Tesla T4\", không còn là \"llvmpipe\".\n",
        "print(\"\\n🔍 Kiểm tra renderer của OpenGL...\")\n",
        "!glxinfo | grep \"OpenGL renderer\"\n",
        "\n",
        "# ================================================================\n",
        "# BƯỚC 4: CHẠY ỨNG DỤNG CỦA BẠN\n",
        "# ================================================================\n",
        "print(\"\\n🚀 Khởi động DepthFlow trên GPU...\")\n",
        "!depthflow gradio --share"
      ],
      "metadata": {
        "id": "esKNdz5hAgnO"
      },
      "execution_count": null,
      "outputs": []
    },
    {
      "cell_type": "code",
      "source": [
        "import torch\n",
        "\n",
        "print(f\"Phiên bản PyTorch: {torch.__version__}\")\n",
        "\n",
        "# Kiểm tra xem CUDA (nền tảng GPU của NVIDIA) có sẵn cho PyTorch không\n",
        "cuda_available = torch.cuda.is_available()\n",
        "print(f\"CUDA có khả dụng không? (Is CUDA available?): {cuda_available}\")\n",
        "\n",
        "if cuda_available:\n",
        "    # Lấy số lượng GPU\n",
        "    device_count = torch.cuda.device_count()\n",
        "    print(f\"Số lượng GPU tìm thấy: {device_count}\")\n",
        "\n",
        "    # In tên của GPU đang được sử dụng\n",
        "    current_device_name = torch.cuda.get_device_name(torch.cuda.current_device())\n",
        "    print(f\"Tên thiết bị GPU: {current_device_name}\")\n",
        "else:\n",
        "    print(\"\\n>>> LỖI: PyTorch không tìm thấy GPU. Đây là nguyên nhân chính!\")\n",
        "    print(\">>> Lý do phổ biến: Phiên bản PyTorch bạn cài là bản CPU-only hoặc driver/CUDA toolkit chưa tương thích.\")"
      ],
      "metadata": {
        "colab": {
          "base_uri": "https://localhost:8080/"
        },
        "id": "a2XcepICzaux",
        "outputId": "4a8cda44-0421-4386-b607-f0453cc38800"
      },
      "execution_count": 4,
      "outputs": [
        {
          "output_type": "stream",
          "name": "stdout",
          "text": [
            "Phiên bản PyTorch: 2.6.0+cu124\n",
            "CUDA có khả dụng không? (Is CUDA available?): True\n",
            "Số lượng GPU tìm thấy: 1\n",
            "Tên thiết bị GPU: Tesla T4\n"
          ]
        }
      ]
    }
  ]
}