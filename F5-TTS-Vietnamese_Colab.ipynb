{
  "nbformat": 4,
  "nbformat_minor": 0,
  "metadata": {
    "colab": {
      "provenance": [],
      "gpuType": "T4"
    },
    "kernelspec": {
      "name": "python3",
      "display_name": "Python 3"
    },
    "language_info": {
      "name": "python"
    },
    "accelerator": "GPU"
  },
  "cells": [
    {
      "cell_type": "code",
      "execution_count": 15,
      "metadata": {
        "id": "0rC0G0qIdOkF",
        "collapsed": true,
        "cellView": "form",
        "outputId": "a049db3b-3d4d-4717-a2df-17935016b142",
        "colab": {
          "base_uri": "https://localhost:8080/"
        }
      },
      "outputs": [
        {
          "output_type": "stream",
          "name": "stdout",
          "text": [
            "/content\n",
            "fatal: destination path 'MyColabHub' already exists and is not an empty directory.\n",
            "/content/MyColabHub/F5-TTS-Vietnamese\n",
            "\n",
            "--- Cấu hình Model ---\n",
            "✅ Model được chọn: EraX Smile Female (Chuyên Clone cho giọng nữ 8 vùng miền)\n",
            "✅ Loại model: new\n",
            "✅ Đường dẫn checkpoint: hf://erax-ai/EraX-Smile-Female-F5-V1.0/base_model/pretrained_model_1250000.safetensors\n",
            "✅ Giới hạn từ: 20000\n",
            "---------------------\n",
            "\n"
          ]
        }
      ],
      "source": [
        "# @title #Cài Đặt F5-TTS-Vietnamese\n",
        "%cd /content/\n",
        "!git clone https://github.com/dongxiat/MyColabHub.git\n",
        "%cd /content/MyColabHub/F5-TTS-Vietnamese\n",
        "!pip install -r requirements.txt -q\n",
        "\n",
        "MODELS_DATA = {\n",
        "    \"Hynt\": {\n",
        "        \"display_name\": \"Hynt (150h đọc Tiếng Việt 500k Steps)\",\n",
        "        \"repo\": \"cuongdesign/Vietnamese-TTS\",\n",
        "        \"model_file\": \"model_500000.pt\",\n",
        "        \"vocab_file\": \"vocab.txt\",\n",
        "        \"type\": \"old\"\n",
        "    },\n",
        "    \"EraX Smile Female\": {\n",
        "        \"display_name\": \"EraX Smile Female (Chuyên Clone cho giọng nữ 8 vùng miền)\",\n",
        "        \"repo\": \"erax-ai/EraX-Smile-Female-F5-V1.0\",\n",
        "        \"model_file\": \"base_model/pretrained_model_1250000.safetensors\",\n",
        "        \"vocab_file\": \"model/vocab.txt\",\n",
        "        \"type\": \"new\"\n",
        "    },\n",
        "    \"EraX Smile Unisex\": {\n",
        "        \"display_name\": \"EraX Smile Unisex (cả Nam/Nữ 8 vùng miền)\",\n",
        "        \"repo\": \"erax-ai/EraX-Smile-UnixSex-F5\",\n",
        "        \"model_file\": \"models/overfit.safetensors\",\n",
        "        \"vocab_file\": \"models/vocab.txt\",\n",
        "        \"type\": \"new\"\n",
        "    },\n",
        "    \"ZaloPay\": {\n",
        "        \"display_name\": \"ZaloPay (model của Zalopay 1tr3 Steps)\",\n",
        "        \"repo\": \"zalopay/vietnamese-tts\",\n",
        "        \"model_file\": \"model_1290000.pt\",\n",
        "        \"vocab_file\": \"vocab.txt\",\n",
        "        \"type\": \"new\"\n",
        "    },\n",
        "    \"DanhTran\": {\n",
        "        \"display_name\": \"DanhTran (100h đọc tiếng Việt dữ liệu của VinAI)\",\n",
        "        \"repo\": \"danhtran2mind/vi-f5-tts\",\n",
        "        \"model_file\": \"ckpts/model_last.pt\",\n",
        "        \"vocab_file\": \"vocab.txt\",\n",
        "        \"type\": \"old\"\n",
        "    }\n",
        "}\n",
        "selected_display_name = \"EraX Smile Female (Chuyên Clone cho giọng nữ 8 vùng miền)\" #@param [\"Hynt (150h đọc Tiếng Việt 500k Steps)\", \"EraX Smile Female (Chuyên Clone cho giọng nữ 8 vùng miền)\", \"EraX Smile Unisex (cả Nam/Nữ 8 vùng miền)\", \"ZaloPay (model của Zalopay 1tr3 Steps)\", \"DanhTran (100h đọc tiếng Việt dữ liệu của VinAI)\"]\n",
        "# @markdown #🎵 Số từ tối đa\n",
        "word_limit = 20000 #@param {type:\"number\"}\n",
        "\n",
        "# Tìm thông tin model đã chọn\n",
        "model_key = next(key for key, info in MODELS_DATA.items() if info[\"display_name\"] == selected_display_name)\n",
        "model_info = MODELS_DATA[model_key]\n",
        "\n",
        "# --- PHẦN 3: TRUYỀN CẤU HÌNH VÀO APP.PY QUA BIẾN MÔI TRƯỜNG ---\n",
        "# Đây là cách làm sạch và an toàn hơn nhiều so với `sed`\n",
        "import os\n",
        "os.environ['MODEL_TYPE'] = model_info['type']\n",
        "os.environ['CKPT_HF_PATH'] = f\"hf://{model_info['repo']}/{model_info['model_file']}\"\n",
        "os.environ['VOCAB_HF_PATH'] = f\"hf://{model_info['repo']}/{model_info['vocab_file']}\"\n",
        "os.environ['WORD_LIMIT'] = str(word_limit)\n",
        "os.environ['DISPLAY_NAME'] = selected_display_name\n",
        "\n",
        "print(\"\\n--- Cấu hình Model ---\")\n",
        "print(f\"✅ Model được chọn: {model_info['display_name']}\")\n",
        "print(f\"✅ Loại model: {os.environ['MODEL_TYPE']}\")\n",
        "print(f\"✅ Đường dẫn checkpoint: {os.environ['CKPT_HF_PATH']}\")\n",
        "print(f\"✅ Giới hạn từ: {os.environ['WORD_LIMIT']}\")\n",
        "print(\"---------------------\\n\")\n",
        "\n",
        "# Bây giờ, chạy app.py. File app.py mới sẽ tự đọc các biến môi trường này.\n",
        "# File app.py ở bước 2 sẽ được ghi vào đúng vị trí.\n",
        "\n"
      ]
    },
    {
      "cell_type": "code",
      "source": [
        "# @title #Chạy F5-TTS-Vietnamese Webui\n",
        "%cd /content/MyColabHub/F5-TTS-Vietnamese\n",
        "!python app.py"
      ],
      "metadata": {
        "id": "WyAlRcD5lk9C"
      },
      "execution_count": null,
      "outputs": []
    }
  ]
}