{
  "nbformat": 4,
  "nbformat_minor": 0,
  "metadata": {
    "colab": {
      "provenance": [],
      "gpuType": "T4",
      "authorship_tag": "ABX9TyNDON8JnF8KsCzJAuAEsbeh",
      "include_colab_link": true
    },
    "kernelspec": {
      "name": "python3",
      "display_name": "Python 3"
    },
    "language_info": {
      "name": "python"
    },
    "accelerator": "GPU"
  },
  "cells": [
    {
      "cell_type": "markdown",
      "metadata": {
        "id": "view-in-github",
        "colab_type": "text"
      },
      "source": [
        "<a href=\"https://colab.research.google.com/github/dongxiat/MyColabHub/blob/main/F5-TTS-Vietnamese_Colab.ipynb\" target=\"_parent\"><img src=\"https://colab.research.google.com/assets/colab-badge.svg\" alt=\"Open In Colab\"/></a>"
      ]
    },
    {
      "cell_type": "code",
      "execution_count": 4,
      "metadata": {
        "id": "0rC0G0qIdOkF",
        "collapsed": true,
        "cellView": "form",
        "outputId": "916a040b-30cf-40e4-c24b-739016a36c07",
        "colab": {
          "base_uri": "https://localhost:8080/"
        }
      },
      "outputs": [
        {
          "output_type": "stream",
          "name": "stdout",
          "text": [
            "/content\n",
            "Cloning into 'F5-TTS-Vietnamese-100h'...\n",
            "remote: Enumerating objects: 293, done.\u001b[K\n",
            "remote: Counting objects: 100% (289/289), done.\u001b[K\n",
            "remote: Compressing objects: 100% (284/284), done.\u001b[K\n",
            "remote: Total 293 (delta 135), reused 0 (delta 0), pack-reused 4 (from 1)\u001b[K\n",
            "Receiving objects: 100% (293/293), 1.33 MiB | 28.97 MiB/s, done.\n",
            "Resolving deltas: 100% (135/135), done.\n",
            "/content/F5-TTS-Vietnamese-100h\n",
            "✅Model đã chọn: Hynt (150h đọc Tiếng Việt 500k Steps)\n",
            "✅Số ký tự tối đa mỗi lần tạo: 20000)\n"
          ]
        }
      ],
      "source": [
        "# @title #Cài Đặt F5-TTS-Vietnamese\n",
        "!rm -rf /content/F5-TTS-Vietnamese-100h\n",
        "%cd /content/\n",
        "!git clone https://huggingface.co/spaces/hynt/F5-TTS-Vietnamese-100h\n",
        "%cd /content/F5-TTS-Vietnamese-100h\n",
        "!pip install -r requirements.txt -q spaces gradio\n",
        "!sed -i 's|launch()|launch(share=True)|; s|ckpt_path=str(cached_path(\"hf://hynt/F5-TTS-Vietnamese-100h/model_500000.pt\")),|ckpt_path=str(cached_path(\"PLACEHOLDER_CKPT_PATH\")),|g; s|vocab_file=str(cached_path(\"hf://hynt/F5-TTS-Vietnamese-100h/vocab.txt\")),|vocab_file=str(cached_path(\"PLACEHOLDER_VOCAB_PATH\")),|g; s|len(gen_text.split()) > 1000|len(gen_text.split()) > WORD_LIMIT_PLACEHOLDER|g' app.py\n",
        "\n",
        "# @markdown # 🎵 Chọn Model F5-TTS để sử dụng\n",
        "MODELS_DATA = {\n",
        "    \"ThienHy\": {\n",
        "        \"display_name\": \"Hynt (150h đọc Tiếng Việt 500k Steps)\",\n",
        "        \"repo\": \"cuongdesign/Vietnamese-TTS\",\n",
        "        \"model_file\": \"model_500000.pt\",\n",
        "        \"vocab_file\": \"vocab.txt\"\n",
        "    },\n",
        "    \"EraX Smile Female\": {\n",
        "        \"display_name\": \"EraX Smile Female (Chuyên Clone cho giọng nữ 8 vùng miền)\",\n",
        "        \"repo\": \"erax-ai/EraX-Smile-Female-F5-V1.0\",\n",
        "        \"model_file\": \"base_model/pretrained_model_1250000.safetensors\",\n",
        "        \"vocab_file\": \"model/vocab.txt\"\n",
        "    },\n",
        "    \"EraX Smile Unisex\": {\n",
        "        \"display_name\": \"EraX Smile Unisex (cả Nam/Nữ 8 vùng miền)\",\n",
        "        \"repo\": \"erax-ai/EraX-Smile-UnixSex-F5\",\n",
        "        \"model_file\": \"models/overfit.safetensors\",\n",
        "        \"vocab_file\": \"models/vocab.txt\"\n",
        "    },\n",
        "    \"ZaloPay\": {\n",
        "        \"display_name\": \"ZaloPay (model của Zalopay 1tr3 Steps)\",\n",
        "        \"repo\": \"zalopay/vietnamese-tts\",\n",
        "        \"model_file\": \"model_1290000.pt\",\n",
        "        \"vocab_file\": \"vocab.txt\"\n",
        "    },\n",
        "    \"DanhTran\": {\n",
        "        \"display_name\": \"DanhTran (100h đọc tiếng Việt dữ liệu của VinAI)\",\n",
        "        \"repo\": \"danhtran2mind/vi-f5-tts\",\n",
        "        \"model_file\": \"ckpts/model_last.pt\",\n",
        "        \"vocab_file\": \"vocab.txt\"\n",
        "    }\n",
        "}\n",
        "selected_display_name = \"Hynt (150h đọc Tiếng Việt 500k Steps)\" #@param [\"Hynt (150h đọc Tiếng Việt 500k Steps)\", \"EraX Smile Female (Chuyên Clone cho giọng nữ 8 vùng miền)\", \"EraX Smile Unisex (cả Nam/Nữ 8 vùng miền)\", \"ZaloPay (model của Zalopay 1tr3 Steps)\", \"DanhTran (100h đọc tiếng Việt dữ liệu của VinAI)\"]\n",
        "# @markdown #🎵 Số ký tự tối đa\n",
        "word_limit = 20000 #@param {type:\"number\"}\n",
        "\n",
        "model_key = None\n",
        "model_info = None\n",
        "for key, info in MODELS_DATA.items():\n",
        "    if info[\"display_name\"] == selected_display_name:\n",
        "        model_key = key\n",
        "        model_info = info\n",
        "        break\n",
        "\n",
        "ckpt_hf_path = f\"hf://{model_info['repo']}/{model_info['model_file']}\"\n",
        "vocab_hf_path = f\"hf://{model_info['repo']}/{model_info['vocab_file']}\"\n",
        "\n",
        "\n",
        "!sed -i 's|PLACEHOLDER_CKPT_PATH|{ckpt_hf_path}|g' app.py\n",
        "!sed -i 's|PLACEHOLDER_VOCAB_PATH|{vocab_hf_path}|g' app.py\n",
        "!sed -i 's|WORD_LIMIT_PLACEHOLDER|{word_limit}|g' app.py\n",
        "\n",
        "print(f\"✅Model đã chọn: {selected_display_name}\")\n",
        "print(f\"✅Số ký tự tối đa mỗi lần tạo: {word_limit})\")\n",
        "\n",
        "\n"
      ]
    },
    {
      "cell_type": "code",
      "source": [
        "\n",
        "# @title #Chạy F5-TTS-Vietnamese Webui\n",
        "!python app.py"
      ],
      "metadata": {
        "id": "WyAlRcD5lk9C"
      },
      "execution_count": null,
      "outputs": []
    }
  ]
}