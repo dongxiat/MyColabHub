{
  "nbformat": 4,
  "nbformat_minor": 0,
  "metadata": {
    "colab": {
      "provenance": [],
      "gpuType": "T4",
      "include_colab_link": true
    },
    "kernelspec": {
      "name": "python3",
      "display_name": "Python 3"
    },
    "language_info": {
      "name": "python"
    },
    "accelerator": "GPU"
  },
  "cells": [
    {
      "cell_type": "markdown",
      "metadata": {
        "id": "view-in-github",
        "colab_type": "text"
      },
      "source": [
        "<a href=\"https://colab.research.google.com/github/dongxiat/MyColabHub/blob/main/F5-TTS-Vietnamese_Colab.ipynb\" target=\"_parent\"><img src=\"https://colab.research.google.com/assets/colab-badge.svg\" alt=\"Open In Colab\"/></a>"
      ]
    },
    {
      "cell_type": "code",
      "execution_count": null,
      "metadata": {
        "id": "0rC0G0qIdOkF",
        "collapsed": true,
        "cellView": "form"
      },
      "outputs": [],
      "source": [
        "# @title #Cài Đặt F5-TTS-Vietnamese\n",
        "%cd /content/\n",
        "!git clone https://github.com/dongxiat/MyColabHub.git\n",
        "%cd /content/MyColabHub/F5-TTS-Vietnamese\n",
        "!pip install -r requirements.txt -q\n",
        "\n",
        "!sed -i 's|launch()|launch(share=True)|g' app.py\n",
        "MODELS_DATA = {\n",
        "    # --- CÁC MODEL CŨ ---\n",
        "    \"Hynt_ViVoice\": {\n",
        "        \"display_name\": \"Hynt ViVoice (1000h đọc Tiếng Việt Vivoice)\",\n",
        "        \"repo\": \"hynt/F5-TTS-Vietnamese-ViVoice\",\n",
        "        \"model_file\": \"model_last.pt\",\n",
        "        \"vocab_file\": \"config.json\", # <<< ĐÃ SỬA LỖI TẠI ĐÂY\n",
        "        \"type\": \"old\"\n",
        "    },\n",
        "    \"Hynt_100h\": {\n",
        "        \"display_name\": \"Hynt (150h đọc Tiếng Việt 500k Steps)\",\n",
        "        \"repo\": \"cuongdesign/Vietnamese-TTS\",\n",
        "        \"model_file\": \"model_500000.pt\",\n",
        "        \"vocab_file\": \"vocab.txt\",\n",
        "        \"type\": \"old\"\n",
        "    },\n",
        "    \"DanhTran\": {\n",
        "        \"display_name\": \"DanhTran (100h đọc tiếng Việt dữ liệu của VinAI)\",\n",
        "        \"repo\": \"danhtran2mind/vi-f5-tts\",\n",
        "        \"model_file\": \"ckpts/model_last.pt\",\n",
        "        \"vocab_file\": \"vocab.txt\",\n",
        "        \"type\": \"old\"\n",
        "    },\n",
        "    \"ZaloPay\": {\n",
        "        \"display_name\": \"ZaloPay (model của Zalopay 1tr3 Steps)\",\n",
        "        \"repo\": \"zalopay/vietnamese-tts\",\n",
        "        \"model_file\": \"model_1290000.pt\",\n",
        "        \"vocab_file\": \"vocab.txt\",\n",
        "        \"type\": \"old\"\n",
        "    },\n",
        "\n",
        "    # --- CÁC MODEL MỚI ---\n",
        "    \"EraX Smile Female\": {\n",
        "        \"display_name\": \"EraX Smile Female (Chuyên Clone cho giọng nữ 8 vùng miền)\",\n",
        "        \"repo\": \"erax-ai/EraX-Smile-Female-F5-V1.0\",\n",
        "        \"model_file\": \"model/model_612000.safetensors\",\n",
        "        \"vocab_file\": \"model/vocab.txt\",\n",
        "        \"type\": \"new\",\n",
        "        \"init_params\": {\n",
        "            \"vocoder_name\": \"vocos\",\n",
        "            \"use_ema\": False\n",
        "        }\n",
        "    },\n",
        "    \"EraX Smile Unisex\": {\n",
        "        \"display_name\": \"EraX Smile Unisex (cả Nam/Nữ 8 vùng miền)\",\n",
        "        \"repo\": \"erax-ai/EraX-Smile-UnixSex-F5\",\n",
        "        \"model_file\": \"models/overfit.safetensors\",\n",
        "        \"vocab_file\": \"models/vocab.txt\",\n",
        "        \"type\": \"new\",\n",
        "        \"init_params\": {\n",
        "            \"model_name\": \"F5TTS_v1_Base\",\n",
        "            \"vocoder_name\": \"vocos\",\n",
        "            \"use_ema\": True,\n",
        "            \"target_sample_rate\": 24000,\n",
        "            \"n_mel_channels\": 100,\n",
        "            \"hop_length\": 256,\n",
        "            \"win_length\": 1024,\n",
        "            \"n_fft\": 1024,\n",
        "            \"ode_method\": 'euler'\n",
        "        }\n",
        "    },\n",
        "}\n",
        "\n",
        "# @markdown ---\n",
        "# @markdown #▶️ Chọn Model và Chạy\n",
        "selected_display_name = \"Hynt ViVoice (1000h đọc Tiếng Việt Vivoice)\" #@param [\"Hynt ViVoice (1000h đọc Tiếng Việt Vivoice)\", \"Hynt (150h đọc Tiếng Việt 500k Steps)\", \"DanhTran (100h đọc tiếng Việt dữ liệu của VinAI)\", \"EraX Smile Female (Chuyên Clone cho giọng nữ 8 vùng miền)\", \"EraX Smile Unisex (cả Nam/Nữ 8 vùng miền)\", \"ZaloPay (model của Zalopay 1tr3 Steps)\"]\n",
        "\n",
        "# @markdown #🎵 Số từ tối đa\n",
        "word_limit = 20000 #@param {type:\"number\"}\n",
        "\n",
        "# Tìm thông tin model đã chọn\n",
        "model_key = next(key for key, info in MODELS_DATA.items() if info[\"display_name\"] == selected_display_name)\n",
        "model_info = MODELS_DATA[model_key]\n",
        "\n",
        "# --- TRUYỀN CẤU HÌNH VÀO APP.PY QUA BIẾN MÔI TRƯỜNG ---\n",
        "import os\n",
        "import json\n",
        "os.environ['MODEL_TYPE'] = model_info['type']\n",
        "os.environ['CKPT_HF_PATH'] = f\"hf://{model_info['repo']}/{model_info['model_file']}\"\n",
        "os.environ['VOCAB_HF_PATH'] = f\"hf://{model_info['repo']}/{model_info['vocab_file']}\" # <<< ĐÃ ĐƠN GIẢN HÓA LOGIC\n",
        "os.environ['WORD_LIMIT'] = str(word_limit)\n",
        "os.environ['DISPLAY_NAME'] = selected_display_name\n",
        "\n",
        "if model_info['type'] == 'new':\n",
        "    os.environ['INIT_PARAMS_JSON'] = json.dumps(model_info.get('init_params', {}))\n",
        "\n",
        "print(\"\\n--- Cấu hình Model ---\")\n",
        "print(f\"✅ Model được chọn: {model_info['display_name']}\")\n",
        "print(f\"✅ Loại model: {os.environ.get('MODEL_TYPE')}\")\n",
        "if os.environ.get('INIT_PARAMS_JSON'):\n",
        "    print(f\"✅ Tham số khởi tạo: {os.environ.get('INIT_PARAMS_JSON')}\")\n",
        "print(f\"✅ Đường dẫn checkpoint: {os.environ.get('CKPT_HF_PATH')}\")\n",
        "print(f\"✅ Đường dẫn vocab: {os.environ.get('VOCAB_HF_PATH')}\") # Thêm dòng này để dễ debug\n",
        "print(f\"✅ Giới hạn từ: {os.environ.get('WORD_LIMIT')}\")\n",
        "print(\"---------------------\\n\")"
      ]
    },
    {
      "cell_type": "code",
      "source": [
        "# @title #Chạy F5-TTS-Vietnamese Webui\n",
        "%cd /content/MyColabHub/F5-TTS-Vietnamese\n",
        "!python app.py"
      ],
      "metadata": {
        "id": "WyAlRcD5lk9C",
        "cellView": "form"
      },
      "execution_count": null,
      "outputs": []
    }
  ]
}