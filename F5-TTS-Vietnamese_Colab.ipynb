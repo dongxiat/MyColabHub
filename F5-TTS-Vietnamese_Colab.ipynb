{
  "nbformat": 4,
  "nbformat_minor": 0,
  "metadata": {
    "colab": {
      "provenance": [],
      "gpuType": "T4",
      "include_colab_link": true
    },
    "kernelspec": {
      "name": "python3",
      "display_name": "Python 3"
    },
    "language_info": {
      "name": "python"
    },
    "accelerator": "GPU"
  },
  "cells": [
    {
      "cell_type": "markdown",
      "metadata": {
        "id": "view-in-github",
        "colab_type": "text"
      },
      "source": [
        "<a href=\"https://colab.research.google.com/github/dongxiat/MyColabHub/blob/main/F5-TTS-Vietnamese_Colab.ipynb\" target=\"_parent\"><img src=\"https://colab.research.google.com/assets/colab-badge.svg\" alt=\"Open In Colab\"/></a>"
      ]
    },
    {
      "cell_type": "code",
      "execution_count": null,
      "metadata": {
        "id": "0rC0G0qIdOkF",
        "collapsed": true,
        "cellView": "form"
      },
      "outputs": [],
      "source": [
        "# @title #Cài Đặt F5-TTS-Vietnamese\n",
        "%%bash\n",
        "sudo apt-get update -y\n",
        "sudo apt-get install python3.11 python3.11-distutils -y -qq\n",
        "\n",
        "# Tải và cài đặt pip cho Python 3.9\n",
        "wget https://bootstrap.pypa.io/get-pip.py\n",
        "python3.11 get-pip.py\n",
        "\n",
        "cd /content/\n",
        "git clone https://github.com/dongxiat/MyColabHub.git\n",
        "cd /content/MyColabHub/F5-TTS-Vietnamese\n",
        "\n",
        "uv venv --python 3.11\n",
        "python3.11 -m pip install -U uv -q\n",
        "uv sync -q\n",
        "\n",
        "sed -i 's|launch()|launch(share=True)|g' app.py"
      ]
    },
    {
      "cell_type": "code",
      "source": [
        "# @title #Chạy F5-TTS-Vietnamese Webui\n",
        "%cd /content/MyColabHub/F5-TTS-Vietnamese\n",
        "!MPLBACKEND=Agg uv run app.py"
      ],
      "metadata": {
        "id": "WyAlRcD5lk9C",
        "cellView": "form"
      },
      "execution_count": null,
      "outputs": []
    },
    {
      "cell_type": "code",
      "source": [
        "# @title #(Optional) Mount Google Drive For Batch Processing\n",
        "\n",
        "#@markdown <br><center><img src='https://upload.wikimedia.org/wikipedia/commons/thumb/d/da/Google_Drive_logo.png/600px-Google_Drive_logo.png' height=\"50\" alt=\"Gdrive-logo\"/></center>\n",
        "#@markdown <center><h3>Mount Gdrive to /content/drive</h3></center><br>\n",
        "MODE = \"MOUNT\" #@param [\"MOUNT\", \"UNMOUNT\"]\n",
        "#Mount your Gdrive!\n",
        "from google.colab import drive\n",
        "drive.mount._DEBUG = False\n",
        "if MODE == \"MOUNT\":\n",
        "  drive.mount('/content/drive', force_remount=True)\n",
        "elif MODE == \"UNMOUNT\":\n",
        "  try:\n",
        "    drive.flush_and_unmount()\n",
        "  except ValueError:\n",
        "    pass\n",
        "  get_ipython().system_raw(\"rm -rf /root/.config/Google/DriveFS\")"
      ],
      "metadata": {
        "cellView": "form",
        "id": "ikBFjqqdLPSM"
      },
      "execution_count": null,
      "outputs": []
    }
  ]
}