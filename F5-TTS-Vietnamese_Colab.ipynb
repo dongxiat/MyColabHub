{
  "nbformat": 4,
  "nbformat_minor": 0,
  "metadata": {
    "colab": {
      "provenance": [],
      "gpuType": "T4",
      "authorship_tag": "ABX9TyMzG62CFgVAAg2fo/WupAiN",
      "include_colab_link": true
    },
    "kernelspec": {
      "name": "python3",
      "display_name": "Python 3"
    },
    "language_info": {
      "name": "python"
    },
    "accelerator": "GPU"
  },
  "cells": [
    {
      "cell_type": "markdown",
      "metadata": {
        "id": "view-in-github",
        "colab_type": "text"
      },
      "source": [
        "<a href=\"https://colab.research.google.com/github/dongxiat/MyColabHub/blob/main/F5-TTS-Vietnamese_Colab.ipynb\" target=\"_parent\"><img src=\"https://colab.research.google.com/assets/colab-badge.svg\" alt=\"Open In Colab\"/></a>"
      ]
    },
    {
      "cell_type": "code",
      "execution_count": null,
      "metadata": {
        "id": "0rC0G0qIdOkF"
      },
      "outputs": [],
      "source": [
        "# @title #F5-TTS-Vietnamese\n",
        "%cd /content/\n",
        "!git clone https://huggingface.co/spaces/hynt/F5-TTS-Vietnamese-100h\n",
        "%cd /content/F5-TTS-Vietnamese-100h\n",
        "!pip install -r requirements.txt -q spaces gradio\n",
        "!sed -i 's~launch()~launch(share=True)~; s~hynt/F5-TTS-Vietnamese-100h~cuongdesign/Vietnamese-TTS~g' app.py\n",
        "\n"
      ]
    },
    {
      "cell_type": "code",
      "source": [
        "\n",
        "# @title #Run F5-TTS-Vietnamese Webui\n",
        "!python app.py"
      ],
      "metadata": {
        "id": "WyAlRcD5lk9C"
      },
      "execution_count": null,
      "outputs": []
    }
  ]
}