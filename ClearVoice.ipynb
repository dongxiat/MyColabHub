{
  "nbformat": 4,
  "nbformat_minor": 0,
  "metadata": {
    "colab": {
      "provenance": [],
      "gpuType": "T4",
      "authorship_tag": "ABX9TyPv/5HGZpwy20gECw06s3LT",
      "include_colab_link": true
    },
    "kernelspec": {
      "name": "python3",
      "display_name": "Python 3"
    },
    "language_info": {
      "name": "python"
    },
    "accelerator": "GPU"
  },
  "cells": [
    {
      "cell_type": "markdown",
      "metadata": {
        "id": "view-in-github",
        "colab_type": "text"
      },
      "source": [
        "<a href=\"https://colab.research.google.com/github/dongxiat/MyColabHub/blob/main/ClearVoice.ipynb\" target=\"_parent\"><img src=\"https://colab.research.google.com/assets/colab-badge.svg\" alt=\"Open In Colab\"/></a>"
      ]
    },
    {
      "cell_type": "code",
      "execution_count": null,
      "metadata": {
        "id": "aU9v2qbDyQqS",
        "collapsed": true
      },
      "outputs": [],
      "source": [
        "# @title #Install ClearVoice-Studio\n",
        "%cd /content\n",
        "!git clone https://huggingface.co/spaces/alibabasglab/ClearVoice\n",
        "%cd /content/ClearVoice\n",
        "!pip install -r requirements.txt -q spaces\n",
        "!pip install --upgrade gradio -q\n",
        "# Find and replace demo.launch() with demo.launch(share=True)\n",
        "!sed -i 's/demo.launch()/demo.launch(share=True)/' app.py\n",
        "\n",
        "\n"
      ]
    },
    {
      "cell_type": "code",
      "source": [
        "# @title #Run ClearVoice-Studio Webui\n",
        "%cd /content/ClearVoice\n",
        "!python app.py"
      ],
      "metadata": {
        "id": "5J8HDFCNz8em",
        "collapsed": true
      },
      "execution_count": null,
      "outputs": []
    }
  ]
}