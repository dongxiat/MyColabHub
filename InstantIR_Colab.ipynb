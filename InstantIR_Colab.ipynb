{
  "nbformat": 4,
  "nbformat_minor": 0,
  "metadata": {
    "colab": {
      "provenance": [],
      "gpuType": "T4",
      "include_colab_link": true
    },
    "kernelspec": {
      "name": "python3",
      "display_name": "Python 3"
    },
    "language_info": {
      "name": "python"
    },
    "accelerator": "GPU"
  },
  "cells": [
    {
      "cell_type": "markdown",
      "metadata": {
        "id": "view-in-github",
        "colab_type": "text"
      },
      "source": [
        "<a href=\"https://colab.research.google.com/github/dongxiat/MyColabHub/blob/main/InstantIR_Colab.ipynb\" target=\"_parent\"><img src=\"https://colab.research.google.com/assets/colab-badge.svg\" alt=\"Open In Colab\"/></a>"
      ]
    },
    {
      "cell_type": "code",
      "execution_count": 1,
      "metadata": {
        "colab": {
          "base_uri": "https://localhost:8080/"
        },
        "id": "VO8Khm-V-Lmi",
        "outputId": "a750aa53-a5b5-47fb-e5c9-9bccaa21aa0e"
      },
      "outputs": [
        {
          "output_type": "stream",
          "name": "stderr",
          "text": [
            "Cloning into 'InstantIR'...\n"
          ]
        }
      ],
      "source": [
        "%%bash\n",
        "#install python 3.9 for work\n",
        "sudo apt-get update -y -qq &> /dev/null\n",
        "sudo apt-get install python3.9 python3.9-distutils -y -qq &> /dev/null\n",
        "wget https://bootstrap.pypa.io/get-pip.py -q\n",
        "python3.9 get-pip.py --quiet\n",
        "python3.9 -m pip install -U uv -q\n",
        "\n",
        "cd /content\n",
        "git clone https://huggingface.co/spaces/fffiloni/InstantIR\n",
        "cd /content/InstantIR\n",
        "uv pip install -r requirements.txt  gradio spaces -q\n",
        "# Find and replace demo.launch() with demo.launch(share=True)\n",
        "sed -i 's/show_error=True/share=True/' app_with_diffusers.py\n",
        "\n"
      ]
    },
    {
      "cell_type": "code",
      "source": [
        "# %cd /content/InstantIR\n",
        "# !uv run app_with_diffusers.py\n",
        "\n",
        "%cd /content/InstantIR/gradio_demo/\n",
        "!uv run app.py"
      ],
      "metadata": {
        "id": "0M2l8MiT-Tzz"
      },
      "execution_count": null,
      "outputs": []
    }
  ]
}